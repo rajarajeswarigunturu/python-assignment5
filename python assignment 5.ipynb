{
 "cells": [
  {
   "cell_type": "code",
   "execution_count": 1,
   "id": "a97b4f49",
   "metadata": {},
   "outputs": [],
   "source": [
    "#1. What does an empty dictionary's code look like?"
   ]
  },
  {
   "cell_type": "code",
   "execution_count": 1,
   "id": "01631ae7",
   "metadata": {},
   "outputs": [],
   "source": [
    "# 1.Ans.\n",
    "# empty dictionary code looks like {}."
   ]
  },
  {
   "cell_type": "code",
   "execution_count": 14,
   "id": "2d1725a1",
   "metadata": {},
   "outputs": [
    {
     "name": "stdout",
     "output_type": "stream",
     "text": [
      "{}\n",
      "length: 0\n",
      "<class 'dict'>\n"
     ]
    }
   ],
   "source": [
    "d={}\n",
    "print(d)\n",
    "print(\"length:\", len(d))\n",
    "print(type(d))"
   ]
  },
  {
   "cell_type": "code",
   "execution_count": 15,
   "id": "7b779c01",
   "metadata": {},
   "outputs": [
    {
     "name": "stdout",
     "output_type": "stream",
     "text": [
      "{}\n",
      "length: 0\n",
      "<class 'dict'>\n"
     ]
    }
   ],
   "source": [
    "#dict() built in function\n",
    "emptydict=dict()\n",
    "print(emptydict)\n",
    "print(\"length:\",len(emptydict))\n",
    "print(type(emptydict))\n",
    "    "
   ]
  },
  {
   "cell_type": "code",
   "execution_count": 16,
   "id": "82cb6a4c",
   "metadata": {},
   "outputs": [],
   "source": [
    "#2. What is the value of a dictionary value with the key 'foo' and\n",
    "#the value 42?"
   ]
  },
  {
   "cell_type": "code",
   "execution_count": 18,
   "id": "26d20685",
   "metadata": {},
   "outputs": [],
   "source": [
    "#Ans.\n",
    "\n",
    "d={\"foo\": 42}"
   ]
  },
  {
   "cell_type": "code",
   "execution_count": 21,
   "id": "83d2e419",
   "metadata": {},
   "outputs": [
    {
     "name": "stdout",
     "output_type": "stream",
     "text": [
      "dict_values([42])\n"
     ]
    }
   ],
   "source": [
    "print(d.values())"
   ]
  },
  {
   "cell_type": "code",
   "execution_count": 24,
   "id": "5ea6e274",
   "metadata": {},
   "outputs": [],
   "source": [
    "a={\"foo\": \"42\"}"
   ]
  },
  {
   "cell_type": "code",
   "execution_count": 25,
   "id": "08042d30",
   "metadata": {},
   "outputs": [
    {
     "name": "stdout",
     "output_type": "stream",
     "text": [
      "dict_values(['42'])\n"
     ]
    }
   ],
   "source": [
    "print(a.values())"
   ]
  },
  {
   "cell_type": "code",
   "execution_count": 26,
   "id": "95def61f",
   "metadata": {},
   "outputs": [],
   "source": [
    "#3. What is the most significant distinction between a \n",
    "#dictionary and a list?"
   ]
  },
  {
   "cell_type": "code",
   "execution_count": 27,
   "id": "d95f549b",
   "metadata": {},
   "outputs": [],
   "source": [
    "# Lists are just like the arrays, declared in other languages. \n",
    "# Lists need not be homogeneous always which makes it a most powerful \n",
    "# tool in Python. A single list may contain DataTypes like Integers,\n",
    "# Strings, as well as Objects. Lists are mutable, and hence, they can \n",
    "# be altered even after their creation.\n",
    "\n",
    "# Dictionary in Python on the other hand is an unordered collection\n",
    "# of data values, used to store data values like a map, which unlike\n",
    "# other Data Types that hold only single value as an element,\n",
    "# Dictionary holds key:value pair. Key-value is provided in the \n",
    "# dictionary to make it more optimized. Each key-value pair in a \n",
    "# Dictionary is separated by a colon :, whereas each key is \n",
    "# separated by a ‘comma’"
   ]
  },
  {
   "cell_type": "code",
   "execution_count": 28,
   "id": "7cac5559",
   "metadata": {},
   "outputs": [],
   "source": [
    "l=[1,2,3,\"raji\",5.67,True,9+6j] #list example"
   ]
  },
  {
   "cell_type": "code",
   "execution_count": 29,
   "id": "5f46f76e",
   "metadata": {},
   "outputs": [],
   "source": [
    "d={\"a\": 10, \"b\": 20, \"c\": 30} #dictionary example"
   ]
  },
  {
   "cell_type": "code",
   "execution_count": 30,
   "id": "10eaef1d",
   "metadata": {},
   "outputs": [],
   "source": [
    "#4. What happens if you try to access spam['foo'] if spam is \n",
    "#{'bar': 100}?"
   ]
  },
  {
   "cell_type": "code",
   "execution_count": 31,
   "id": "32c9ef23",
   "metadata": {},
   "outputs": [],
   "source": [
    "spam={'bar': 100}"
   ]
  },
  {
   "cell_type": "code",
   "execution_count": 32,
   "id": "4bee92ea",
   "metadata": {},
   "outputs": [
    {
     "ename": "KeyError",
     "evalue": "'foo'",
     "output_type": "error",
     "traceback": [
      "\u001b[1;31m---------------------------------------------------------------------------\u001b[0m",
      "\u001b[1;31mKeyError\u001b[0m                                  Traceback (most recent call last)",
      "\u001b[1;32m~\\AppData\\Local\\Temp/ipykernel_38768/3999281786.py\u001b[0m in \u001b[0;36m<module>\u001b[1;34m\u001b[0m\n\u001b[1;32m----> 1\u001b[1;33m \u001b[0mspam\u001b[0m\u001b[1;33m[\u001b[0m\u001b[1;34m'foo'\u001b[0m\u001b[1;33m]\u001b[0m\u001b[1;33m\u001b[0m\u001b[1;33m\u001b[0m\u001b[0m\n\u001b[0m",
      "\u001b[1;31mKeyError\u001b[0m: 'foo'"
     ]
    }
   ],
   "source": [
    "spam['foo'] # we get key error as error"
   ]
  },
  {
   "cell_type": "code",
   "execution_count": 33,
   "id": "9ed54fdc",
   "metadata": {},
   "outputs": [],
   "source": [
    "#5. If a dictionary is stored in spam, what is the difference between \n",
    "#the expressions 'cat' in spam and\n",
    "#'cat' in spam.keys()?"
   ]
  },
  {
   "cell_type": "code",
   "execution_count": 34,
   "id": "dc68dbc2",
   "metadata": {},
   "outputs": [],
   "source": [
    "spam={\"cat\": 10, \"dog\": 20}"
   ]
  },
  {
   "cell_type": "code",
   "execution_count": 36,
   "id": "f83b77eb",
   "metadata": {},
   "outputs": [
    {
     "data": {
      "text/plain": [
       "True"
      ]
     },
     "execution_count": 36,
     "metadata": {},
     "output_type": "execute_result"
    }
   ],
   "source": [
    "\"cat\" in spam"
   ]
  },
  {
   "cell_type": "code",
   "execution_count": 37,
   "id": "4f674f83",
   "metadata": {},
   "outputs": [
    {
     "data": {
      "text/plain": [
       "True"
      ]
     },
     "execution_count": 37,
     "metadata": {},
     "output_type": "execute_result"
    }
   ],
   "source": [
    "\"cat\" in spam.keys()"
   ]
  },
  {
   "cell_type": "code",
   "execution_count": 38,
   "id": "53653685",
   "metadata": {},
   "outputs": [],
   "source": [
    "#6. If a dictionary is stored in spam, what is the difference between \n",
    "#the expressions 'cat' in spam and\n",
    "#'cat' in spam.values()?"
   ]
  },
  {
   "cell_type": "code",
   "execution_count": 39,
   "id": "15273658",
   "metadata": {},
   "outputs": [],
   "source": [
    "spam={\"cat\": 10, \"dog\": 20}"
   ]
  },
  {
   "cell_type": "code",
   "execution_count": 40,
   "id": "8c6a953f",
   "metadata": {},
   "outputs": [
    {
     "data": {
      "text/plain": [
       "True"
      ]
     },
     "execution_count": 40,
     "metadata": {},
     "output_type": "execute_result"
    }
   ],
   "source": [
    "\"cat\" in spam"
   ]
  },
  {
   "cell_type": "code",
   "execution_count": 41,
   "id": "b6043f22",
   "metadata": {},
   "outputs": [
    {
     "data": {
      "text/plain": [
       "False"
      ]
     },
     "execution_count": 41,
     "metadata": {},
     "output_type": "execute_result"
    }
   ],
   "source": [
    "\"cat\" in spam.values()"
   ]
  },
  {
   "cell_type": "code",
   "execution_count": 42,
   "id": "4108f511",
   "metadata": {},
   "outputs": [],
   "source": [
    "#7. What is a shortcut for the following code?\n",
    "#if 'color' not in spam:\n",
    "#spam['color'] = 'black'"
   ]
  },
  {
   "cell_type": "code",
   "execution_count": 43,
   "id": "26129183",
   "metadata": {},
   "outputs": [],
   "source": [
    "spam={\"colour\": \"black\"}"
   ]
  },
  {
   "cell_type": "code",
   "execution_count": 44,
   "id": "5018f6d5",
   "metadata": {},
   "outputs": [
    {
     "data": {
      "text/plain": [
       "False"
      ]
     },
     "execution_count": 44,
     "metadata": {},
     "output_type": "execute_result"
    }
   ],
   "source": [
    "\"colour\" not in spam"
   ]
  },
  {
   "cell_type": "code",
   "execution_count": 45,
   "id": "1d00522e",
   "metadata": {},
   "outputs": [
    {
     "data": {
      "text/plain": [
       "'black'"
      ]
     },
     "execution_count": 45,
     "metadata": {},
     "output_type": "execute_result"
    }
   ],
   "source": [
    "spam[\"colour\"]"
   ]
  },
  {
   "cell_type": "code",
   "execution_count": 46,
   "id": "4c2af1dd",
   "metadata": {},
   "outputs": [],
   "source": [
    "#8. How do you \"pretty print\" dictionary values using \n",
    "#which module and function?"
   ]
  },
  {
   "cell_type": "code",
   "execution_count": 47,
   "id": "9d603979",
   "metadata": {},
   "outputs": [],
   "source": [
    "d={\"a\": {\"x\":\"5\", \"y\":\"6\", \"z\":\"7\"}, \"b\": {\"p\":\"7\", \"q\":\"8\", \"r\":\"9\"}}"
   ]
  },
  {
   "cell_type": "code",
   "execution_count": 48,
   "id": "876a36c9",
   "metadata": {},
   "outputs": [
    {
     "name": "stdout",
     "output_type": "stream",
     "text": [
      "The original dictionary is:{'a': {'x': '5', 'y': '6', 'z': '7'}, 'b': {'p': '7', 'q': '8', 'r': '9'}}\n"
     ]
    }
   ],
   "source": [
    "print(\"The original dictionary is:\" + str(d))"
   ]
  },
  {
   "cell_type": "code",
   "execution_count": 49,
   "id": "31d0d733",
   "metadata": {},
   "outputs": [
    {
     "name": "stdout",
     "output_type": "stream",
     "text": [
      "The pretty print dictionary is:\n",
      "a\n",
      "x : 5\n",
      "y : 6\n",
      "z : 7\n",
      "b\n",
      "p : 7\n",
      "q : 8\n",
      "r : 9\n"
     ]
    }
   ],
   "source": [
    "print(\"The pretty print dictionary is:\")\n",
    "for i in d:\n",
    "    print(i)\n",
    "    for j in d[i]:\n",
    "        print(j,\":\",d[i][j])"
   ]
  },
  {
   "cell_type": "code",
   "execution_count": null,
   "id": "179d9fe8",
   "metadata": {},
   "outputs": [],
   "source": []
  }
 ],
 "metadata": {
  "kernelspec": {
   "display_name": "Python 3 (ipykernel)",
   "language": "python",
   "name": "python3"
  },
  "language_info": {
   "codemirror_mode": {
    "name": "ipython",
    "version": 3
   },
   "file_extension": ".py",
   "mimetype": "text/x-python",
   "name": "python",
   "nbconvert_exporter": "python",
   "pygments_lexer": "ipython3",
   "version": "3.9.7"
  }
 },
 "nbformat": 4,
 "nbformat_minor": 5
}
